{
 "cells": [
  {
   "cell_type": "code",
   "execution_count": 13,
   "metadata": {},
   "outputs": [
    {
     "data": {
      "text/plain": [
       "'C:\\\\Users\\\\SMART-01\\\\python_ldg\\\\session1'"
      ]
     },
     "execution_count": 13,
     "metadata": {},
     "output_type": "execute_result"
    }
   ],
   "source": [
    "pwd"
   ]
  },
  {
   "cell_type": "markdown",
   "metadata": {},
   "source": [
    "###numpy예제"
   ]
  },
  {
   "cell_type": "code",
   "execution_count": 15,
   "metadata": {},
   "outputs": [],
   "source": [
    "#numpy 라이브러리 불러오기\n",
    "import numpy as np"
   ]
  },
  {
   "cell_type": "code",
   "execution_count": 18,
   "metadata": {
    "scrolled": false
   },
   "outputs": [
    {
     "data": {
      "text/plain": [
       "array([[1., 2., 3.],\n",
       "       [4., 5., 6.]])"
      ]
     },
     "execution_count": 18,
     "metadata": {},
     "output_type": "execute_result"
    }
   ],
   "source": [
    "np.loadtxt('../dataset/testNumpy.txt',\n",
    "          delimiter = ',')"
   ]
  },
  {
   "cell_type": "code",
   "execution_count": 5,
   "metadata": {},
   "outputs": [
    {
     "name": "stdout",
     "output_type": "stream",
     "text": [
      "[*********************100%***********************]  1 of 1 downloaded\n"
     ]
    },
    {
     "data": {
      "text/html": [
       "<div>\n",
       "<style scoped>\n",
       "    .dataframe tbody tr th:only-of-type {\n",
       "        vertical-align: middle;\n",
       "    }\n",
       "\n",
       "    .dataframe tbody tr th {\n",
       "        vertical-align: top;\n",
       "    }\n",
       "\n",
       "    .dataframe thead th {\n",
       "        text-align: right;\n",
       "    }\n",
       "</style>\n",
       "<table border=\"1\" class=\"dataframe\">\n",
       "  <thead>\n",
       "    <tr style=\"text-align: right;\">\n",
       "      <th></th>\n",
       "      <th>Open</th>\n",
       "      <th>High</th>\n",
       "      <th>Low</th>\n",
       "      <th>Close</th>\n",
       "      <th>Adj Close</th>\n",
       "      <th>Volume</th>\n",
       "    </tr>\n",
       "    <tr>\n",
       "      <th>Date</th>\n",
       "      <th></th>\n",
       "      <th></th>\n",
       "      <th></th>\n",
       "      <th></th>\n",
       "      <th></th>\n",
       "      <th></th>\n",
       "    </tr>\n",
       "  </thead>\n",
       "  <tbody>\n",
       "    <tr>\n",
       "      <th>2017-04-03</th>\n",
       "      <td>41400.0</td>\n",
       "      <td>41720.0</td>\n",
       "      <td>41300.0</td>\n",
       "      <td>41440.0</td>\n",
       "      <td>10779.122070</td>\n",
       "      <td>9579400</td>\n",
       "    </tr>\n",
       "    <tr>\n",
       "      <th>2017-04-04</th>\n",
       "      <td>41600.0</td>\n",
       "      <td>42180.0</td>\n",
       "      <td>41520.0</td>\n",
       "      <td>42080.0</td>\n",
       "      <td>10945.595703</td>\n",
       "      <td>12255500</td>\n",
       "    </tr>\n",
       "    <tr>\n",
       "      <th>2017-04-05</th>\n",
       "      <td>41900.0</td>\n",
       "      <td>42240.0</td>\n",
       "      <td>41700.0</td>\n",
       "      <td>42140.0</td>\n",
       "      <td>10961.202148</td>\n",
       "      <td>10699700</td>\n",
       "    </tr>\n",
       "    <tr>\n",
       "      <th>2017-04-06</th>\n",
       "      <td>42000.0</td>\n",
       "      <td>42080.0</td>\n",
       "      <td>41600.0</td>\n",
       "      <td>41840.0</td>\n",
       "      <td>10883.167969</td>\n",
       "      <td>9683400</td>\n",
       "    </tr>\n",
       "    <tr>\n",
       "      <th>2017-04-07</th>\n",
       "      <td>41800.0</td>\n",
       "      <td>41820.0</td>\n",
       "      <td>41160.0</td>\n",
       "      <td>41600.0</td>\n",
       "      <td>10820.740234</td>\n",
       "      <td>10021000</td>\n",
       "    </tr>\n",
       "  </tbody>\n",
       "</table>\n",
       "</div>"
      ],
      "text/plain": [
       "               Open     High      Low    Close     Adj Close    Volume\n",
       "Date                                                                  \n",
       "2017-04-03  41400.0  41720.0  41300.0  41440.0  10779.122070   9579400\n",
       "2017-04-04  41600.0  42180.0  41520.0  42080.0  10945.595703  12255500\n",
       "2017-04-05  41900.0  42240.0  41700.0  42140.0  10961.202148  10699700\n",
       "2017-04-06  42000.0  42080.0  41600.0  41840.0  10883.167969   9683400\n",
       "2017-04-07  41800.0  41820.0  41160.0  41600.0  10820.740234  10021000"
      ]
     },
     "execution_count": 5,
     "metadata": {},
     "output_type": "execute_result"
    }
   ],
   "source": [
    "import pandas_datareader.data as web\n",
    "import fix_yahoo_finance as yf\n",
    "yf.pdr_override()\n",
    "from datetime import date, timedelta\n",
    "import matplotlib.pyplot as pit\n",
    "import datetime\n",
    "\n",
    "start = datetime.datetime(2017,4,1)\n",
    "end = date.today()\n",
    "\n",
    "SEC = web.get_data_yahoo(\"005930.KS\", start, end)\n",
    "SEC.head()"
   ]
  },
  {
   "cell_type": "code",
   "execution_count": 2,
   "metadata": {},
   "outputs": [
    {
     "data": {
      "text/html": [
       "<div>\n",
       "<style scoped>\n",
       "    .dataframe tbody tr th:only-of-type {\n",
       "        vertical-align: middle;\n",
       "    }\n",
       "\n",
       "    .dataframe tbody tr th {\n",
       "        vertical-align: top;\n",
       "    }\n",
       "\n",
       "    .dataframe thead th {\n",
       "        text-align: right;\n",
       "    }\n",
       "</style>\n",
       "<table border=\"1\" class=\"dataframe\">\n",
       "  <thead>\n",
       "    <tr style=\"text-align: right;\">\n",
       "      <th></th>\n",
       "      <th>회사명</th>\n",
       "      <th>종목코드</th>\n",
       "      <th>업종</th>\n",
       "      <th>주요제품</th>\n",
       "      <th>상장일</th>\n",
       "      <th>결산월</th>\n",
       "      <th>대표자명</th>\n",
       "      <th>홈페이지</th>\n",
       "      <th>지역</th>\n",
       "    </tr>\n",
       "  </thead>\n",
       "  <tbody>\n",
       "    <tr>\n",
       "      <th>0</th>\n",
       "      <td>AJ렌터카</td>\n",
       "      <td>068400</td>\n",
       "      <td>운송장비 임대업</td>\n",
       "      <td>승용자동차 임대</td>\n",
       "      <td>2012-07-27</td>\n",
       "      <td>12월</td>\n",
       "      <td>홍성관</td>\n",
       "      <td>http://www.ajrentacar.co.kr</td>\n",
       "      <td>서울특별시</td>\n",
       "    </tr>\n",
       "    <tr>\n",
       "      <th>1</th>\n",
       "      <td>E1</td>\n",
       "      <td>017940</td>\n",
       "      <td>기타 전문 도매업</td>\n",
       "      <td>LPG(프로판,부탄가스),가스기기판매</td>\n",
       "      <td>1997-08-27</td>\n",
       "      <td>12월</td>\n",
       "      <td>구자용 사장</td>\n",
       "      <td>http://www.e1.co.kr</td>\n",
       "      <td>서울특별시</td>\n",
       "    </tr>\n",
       "    <tr>\n",
       "      <th>2</th>\n",
       "      <td>GKL</td>\n",
       "      <td>114090</td>\n",
       "      <td>유원지 및 기타 오락관련 서비스업</td>\n",
       "      <td>카지노</td>\n",
       "      <td>2009-11-19</td>\n",
       "      <td>12월</td>\n",
       "      <td>이기우</td>\n",
       "      <td>http://www.grandkorea.com</td>\n",
       "      <td>서울특별시</td>\n",
       "    </tr>\n",
       "    <tr>\n",
       "      <th>3</th>\n",
       "      <td>KR모터스</td>\n",
       "      <td>000040</td>\n",
       "      <td>그외 기타 운송장비 제조업</td>\n",
       "      <td>이륜차(오토바이) 제조,도매</td>\n",
       "      <td>1976-05-25</td>\n",
       "      <td>12월</td>\n",
       "      <td>성상용, 서정민 (각자 대표이사)</td>\n",
       "      <td>http://www.krmotors.com</td>\n",
       "      <td>경상남도</td>\n",
       "    </tr>\n",
       "    <tr>\n",
       "      <th>4</th>\n",
       "      <td>LG화학</td>\n",
       "      <td>051910</td>\n",
       "      <td>기초 화학물질 제조업</td>\n",
       "      <td>유화/기능/합성수지,재생섬유소,산업재,리튬이온전지,평광판,PVC 제조,도매</td>\n",
       "      <td>2001-04-25</td>\n",
       "      <td>12월</td>\n",
       "      <td>박진수</td>\n",
       "      <td>http://www.lgchem.com</td>\n",
       "      <td>서울특별시</td>\n",
       "    </tr>\n",
       "  </tbody>\n",
       "</table>\n",
       "</div>"
      ],
      "text/plain": [
       "     회사명    종목코드                  업종  \\\n",
       "0  AJ렌터카  068400            운송장비 임대업   \n",
       "1     E1  017940           기타 전문 도매업   \n",
       "2    GKL  114090  유원지 및 기타 오락관련 서비스업   \n",
       "3  KR모터스  000040      그외 기타 운송장비 제조업   \n",
       "4   LG화학  051910         기초 화학물질 제조업   \n",
       "\n",
       "                                        주요제품         상장일  결산월  \\\n",
       "0                                   승용자동차 임대  2012-07-27  12월   \n",
       "1                       LPG(프로판,부탄가스),가스기기판매  1997-08-27  12월   \n",
       "2                                        카지노  2009-11-19  12월   \n",
       "3                            이륜차(오토바이) 제조,도매  1976-05-25  12월   \n",
       "4  유화/기능/합성수지,재생섬유소,산업재,리튬이온전지,평광판,PVC 제조,도매  2001-04-25  12월   \n",
       "\n",
       "                 대표자명                         홈페이지     지역  \n",
       "0                 홍성관  http://www.ajrentacar.co.kr  서울특별시  \n",
       "1              구자용 사장          http://www.e1.co.kr  서울특별시  \n",
       "2                 이기우    http://www.grandkorea.com  서울특별시  \n",
       "3  성상용, 서정민 (각자 대표이사)      http://www.krmotors.com   경상남도  \n",
       "4                 박진수        http://www.lgchem.com  서울특별시  "
      ]
     },
     "execution_count": 2,
     "metadata": {},
     "output_type": "execute_result"
    }
   ],
   "source": [
    "import urllib.parse\n",
    "import pandas as pd\n",
    "\n",
    "MARKET_CODE_DICT = {\n",
    "    'kospi': 'stockMkt',\n",
    "    'kosdaq': 'kosdaqMkt',\n",
    "    'konex': 'konexMkt'\n",
    "}\n",
    "\n",
    "DOWNLOAD_URL = 'kind.krx.co.kr/corpgeneral/corpList.do'\n",
    "\n",
    "def download_stock_codes(market=None, delisted=False):\n",
    "    params = {'method': 'download'}\n",
    "\n",
    "    if market.lower() in MARKET_CODE_DICT:\n",
    "        params['marketType'] = MARKET_CODE_DICT[market]\n",
    "\n",
    "    if not delisted:\n",
    "        params['searchType'] = 13\n",
    "\n",
    "    params_string = urllib.parse.urlencode(params)\n",
    "    request_url = urllib.parse.urlunsplit(['http', DOWNLOAD_URL, '', params_string, ''])\n",
    "\n",
    "    df = pd.read_html(request_url, header=0)[0]\n",
    "    df.종목코드 = df.종목코드.map('{:06d}'.format)\n",
    "\n",
    "    return df\n",
    "\n",
    "\n",
    "kosdaq_stocks = download_stock_codes('kospi')\n",
    "kosdaq_stocks.head()\n",
    "kosdaq_stocks.to_csv(\"d:/kospi.csv\", index=False, encoding=\"utf-8-sig\")\n",
    "#encoding=\"utf-8-sig\"\n",
    "type(kosdaq_stocks)\n",
    "kosdaq_stocks.head(5)\n"
   ]
  },
  {
   "cell_type": "code",
   "execution_count": 1,
   "metadata": {},
   "outputs": [],
   "source": [
    "import matplotlib.pyplot as pit"
   ]
  },
  {
   "cell_type": "code",
   "execution_count": 2,
   "metadata": {},
   "outputs": [],
   "source": [
    "%matplotlib inline"
   ]
  },
  {
   "cell_type": "code",
   "execution_count": 3,
   "metadata": {},
   "outputs": [
    {
     "data": {
      "text/plain": [
       "[<matplotlib.lines.Line2D at 0x79f3160>]"
      ]
     },
     "execution_count": 3,
     "metadata": {},
     "output_type": "execute_result"
    },
    {
     "data": {
      "image/png": "[encoded data removed]",
      "text/plain": [
       "<matplotlib.figure.Figure at 0x9ea0320>"
      ]
     },
     "metadata": {},
     "output_type": "display_data"
    }
   ],
   "source": [
    "import numpy as np\n",
    "x = np.linspace(0,5,11)\n",
    "y = x ** 2\n",
    "pit.plot(x,y)"
   ]
  },
  {
   "cell_type": "code",
   "execution_count": 4,
   "metadata": {},
   "outputs": [
    {
     "name": "stdout",
     "output_type": "stream",
     "text": [
      "[*********************100%***********************]  1 of 1 downloaded\n"
     ]
    },
    {
     "data": {
      "image/png": "[encoded data removed]",
      "text/plain": [
       "<matplotlib.figure.Figure at 0xc77da58>"
      ]
     },
     "metadata": {},
     "output_type": "display_data"
    }
   ],
   "source": [
    "import pandas_datareader.data as web\n",
    "import fix_yahoo_finance as yf\n",
    "yf.pdr_override()\n",
    "from datetime import date, timedelta\n",
    "import matplotlib.pyplot as plt\n",
    "import datetime\n",
    "\n",
    "start = datetime.datetime(2017,4,1)\n",
    "end = date.today()\n",
    "\n",
    "SEC = web.get_data_yahoo(\"003490.KS\", start, end)\n",
    "SEC['Close'].plot(style='--')\n",
    "plt.show()"
   ]
  },
  {
   "cell_type": "code",
   "execution_count": 14,
   "metadata": {},
   "outputs": [
    {
     "name": "stdout",
     "output_type": "stream",
     "text": [
      "   SEPALLENGTH  SEPALWIDTH  PETALLENGTH  PETALWIDTH SPECIES\n",
      "0          5.1         3.5          1.4         0.2  setosa\n",
      "1          4.9         3.0          1.4         0.2  setosa\n"
     ]
    },
    {
     "data": {
      "image/png": "[encoded data removed]",
      "text/plain": [
       "<matplotlib.figure.Figure at 0xb6dda20>"
      ]
     },
     "metadata": {},
     "output_type": "display_data"
    }
   ],
   "source": [
    "# pandas 패키지 불러오기\n",
    "import pandas as pd\n",
    "from sklearn.cluster import KMeans\n",
    "import matplotlib.pyplot as plt\n",
    "\n",
    "#CSV 파일을 읽어 DATA Frame 변수에 저장하기\n",
    "flowerData = pd.read_csv(\"../dataset/IRIS.csv\")\n",
    "print(flowerData.head(2))\n",
    "\n",
    "name = flowerData[ ['SPECIES']]\n",
    "feature = flowerData[['PETALLENGTH','PETALWIDTH']]\n",
    "\n",
    "#create model and prediction\n",
    "model = KMeans(n_clusters=3,algorithm='auto')\n",
    "model.fit(feature)\n",
    "predict = pd.DataFrame(model.predict(feature))\n",
    "predict.columns=['PREDICT']\n",
    "\n",
    "\n",
    "#conatenate labels to df as a new column\n",
    "r = pd.concat([name,feature,predict],axis=1)\n",
    "\n",
    "#scatter plot\n",
    "plt.scatter(r['PETALLENGTH'],r['PETALWIDTH'],c=r['PREDICT'],alpha=1)\n",
    "\n",
    "#pit.scatter(center_x,center_y,s=50,marker='0',c='r')\n",
    "plt.show()\n",
    "\n"
   ]
  },
  {
   "cell_type": "code",
   "execution_count": null,
   "metadata": {},
   "outputs": [],
   "source": []
  }
 ],
 "metadata": {
  "kernelspec": {
   "display_name": "Python 3",
   "language": "python",
   "name": "python3"
  },
  "language_info": {
   "codemirror_mode": {
    "name": "ipython",
    "version": 3
   },
   "file_extension": ".py",
   "mimetype": "text/x-python",
   "name": "python",
   "nbconvert_exporter": "python",
   "pygments_lexer": "ipython3",
   "version": "3.6.4"
  }
 },
 "nbformat": 4,
 "nbformat_minor": 2
}
