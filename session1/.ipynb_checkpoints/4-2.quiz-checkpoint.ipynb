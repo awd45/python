{
 "cells": [
  {
   "cell_type": "code",
   "execution_count": 1,
   "metadata": {},
   "outputs": [
    {
     "data": {
      "text/plain": [
       "[1, 3, 5, 7, 9, 11, 13, 15, 17, 19]"
      ]
     },
     "execution_count": 1,
     "metadata": {},
     "output_type": "execute_result"
    }
   ],
   "source": [
    "# 퀴즈 1\n",
    "list(range(1,20,2))"
   ]
  },
  {
   "cell_type": "code",
   "execution_count": 4,
   "metadata": {},
   "outputs": [
    {
     "name": "stdout",
     "output_type": "stream",
     "text": [
      "미국\n",
      "한국\n",
      "프랑스\n"
     ]
    }
   ],
   "source": [
    "# 퀴즈 2 인덱스번호를 생각해야한다. \n",
    "nations = [\"A01\",\"미국\",\"A02\",\"한국\",\"A03\",\"프랑스\"]\n",
    "\n",
    "# 방법 1\n",
    "i=1\n",
    "while i<=len(nations):\n",
    "    print(nations[i])\n",
    "    i=i+2\n",
    "\n",
    "# 방법 2\n",
    "i=0\n",
    "while i< len(nations):\n",
    "    if(i%2!=0)\n",
    "        print(nations[i])\n",
    "        i=i+1\n",
    "    \n",
    "    "
   ]
  },
  {
   "cell_type": "code",
   "execution_count": 6,
   "metadata": {},
   "outputs": [
    {
     "name": "stdout",
     "output_type": "stream",
     "text": [
      "A01\n",
      "A02\n",
      "A03\n"
     ]
    }
   ],
   "source": [
    "# 퀴즈 3\n",
    "\n",
    "nations = [\"A01\",\"미국\",\"A02\",\"한국\",\"A03\",\"프랑스\"]\n",
    "\n",
    "# 방법 1\n",
    "for i in range (0,len(nations),2):\n",
    "    print(nations[i])\n",
    "    \n",
    "# 방법 2 (list의 index를 활용한 답)\n",
    "for i in nations:\n",
    "    if(nations.index(i)%2!=0):\n",
    "        print(i)"
   ]
  }
 ],
 "metadata": {
  "kernelspec": {
   "display_name": "Python 3",
   "language": "python",
   "name": "python3"
  },
  "language_info": {
   "codemirror_mode": {
    "name": "ipython",
    "version": 3
   },
   "file_extension": ".py",
   "mimetype": "text/x-python",
   "name": "python",
   "nbconvert_exporter": "python",
   "pygments_lexer": "ipython3",
   "version": "3.6.4"
  }
 },
 "nbformat": 4,
 "nbformat_minor": 2
}
